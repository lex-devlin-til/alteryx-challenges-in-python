{
 "cells": [
  {
   "cell_type": "markdown",
   "id": "b7a1210a",
   "metadata": {
    "vscode": {
     "languageId": "plaintext"
    }
   },
   "source": [
    "The Alteryx Community hosts localized User Groups across the globe. Have you ever wondered how many people participate in these groups, or how many active groups exist?\n",
    "\n",
    "Each User Group page displays the group name, the number of leaders, the number of members, the URL, and the region. The dataset below was created by web scraping User Group pages between June 2023 and March 2025. You can explore it here: Alteryx Community User Groups.\n",
    "\n",
    "For this challenge, use the two datasets provided to complete the following tasks:\n",
    "\n",
    "1. Calculate the total number of User Groups, the total number of members, and the percentage increase in membership between June 2023 and March 2025.\n",
    "2. Identify the top five User Groups with the largest increase in members.\n",
    "\n",
    "Notes:\n",
    "• Task 2 applies only to User Groups that exist as of March 29, 2025.\n",
    "• Some User Groups may have changed names during the data period. Use the Change history dataset to align names correctly.\n",
    "• Round all calculation results to two decimal places."
   ]
  },
  {
   "cell_type": "code",
   "execution_count": 6,
   "id": "66eb8934",
   "metadata": {},
   "outputs": [],
   "source": [
    "# Importing libraries\n",
    "import pandas as pd"
   ]
  },
  {
   "cell_type": "code",
   "execution_count": null,
   "id": "f56c0d2f",
   "metadata": {},
   "outputs": [
    {
     "name": "stdout",
     "output_type": "stream",
     "text": [
      " Volume in drive C is OS\n",
      " Volume Serial Number is 4093-D9E7\n",
      "\n",
      " Directory of c:\\Users\\LexDevlin\\Documents\\GitHub\\alteryx-challenges-in-python\\487\n",
      "\n",
      "08/26/2025  10:16 PM    <DIR>          .\n",
      "08/26/2025  10:02 PM    <DIR>          ..\n",
      "08/26/2025  10:16 PM                 0 487_solution.ipynb\n",
      "08/26/2025  10:15 PM                 0 487_solution.py\n",
      "08/26/2025  10:14 PM           235,195 Challenge+487_start_file.yxmd\n",
      "08/26/2025  10:42 PM               945 change_history.csv\n",
      "08/26/2025  10:42 PM            72,164 usergroup_history.csv\n",
      "               5 File(s)        308,304 bytes\n",
      "               2 Dir(s)  213,798,756,352 bytes free\n"
     ]
    }
   ],
   "source": [
    "# Confirming the directory of this script is the same where the data is stored\n",
    "ls"
   ]
  },
  {
   "cell_type": "code",
   "execution_count": 10,
   "id": "63fcbfe3",
   "metadata": {},
   "outputs": [],
   "source": [
    "ugh = pd.read_csv('usergroup_history.csv')\n",
    "ch = pd.read_csv('change_history.csv')"
   ]
  },
  {
   "cell_type": "code",
   "execution_count": 11,
   "id": "accfc314",
   "metadata": {},
   "outputs": [
    {
     "data": {
      "text/html": [
       "<div>\n",
       "<style scoped>\n",
       "    .dataframe tbody tr th:only-of-type {\n",
       "        vertical-align: middle;\n",
       "    }\n",
       "\n",
       "    .dataframe tbody tr th {\n",
       "        vertical-align: top;\n",
       "    }\n",
       "\n",
       "    .dataframe thead th {\n",
       "        text-align: right;\n",
       "    }\n",
       "</style>\n",
       "<table border=\"1\" class=\"dataframe\">\n",
       "  <thead>\n",
       "    <tr style=\"text-align: right;\">\n",
       "      <th></th>\n",
       "      <th>URL_detail</th>\n",
       "      <th>UserGroupName</th>\n",
       "      <th>Region</th>\n",
       "      <th>Group Leaders</th>\n",
       "      <th>Members</th>\n",
       "      <th>Date</th>\n",
       "    </tr>\n",
       "  </thead>\n",
       "  <tbody>\n",
       "    <tr>\n",
       "      <th>0</th>\n",
       "      <td>https://community.alteryx.com/t5/Atlanta-GA/gh...</td>\n",
       "      <td>Atlanta, GA</td>\n",
       "      <td>Americas</td>\n",
       "      <td>4</td>\n",
       "      <td>396</td>\n",
       "      <td>2023-06-04</td>\n",
       "    </tr>\n",
       "    <tr>\n",
       "      <th>1</th>\n",
       "      <td>https://community.alteryx.com/t5/Austin-TX/gh-...</td>\n",
       "      <td>Austin, TX</td>\n",
       "      <td>Americas</td>\n",
       "      <td>2</td>\n",
       "      <td>209</td>\n",
       "      <td>2023-06-04</td>\n",
       "    </tr>\n",
       "    <tr>\n",
       "      <th>2</th>\n",
       "      <td>https://community.alteryx.com/t5/Boston-MA-New...</td>\n",
       "      <td>Boston, MA (New England)</td>\n",
       "      <td>Americas</td>\n",
       "      <td>3</td>\n",
       "      <td>307</td>\n",
       "      <td>2023-06-04</td>\n",
       "    </tr>\n",
       "    <tr>\n",
       "      <th>3</th>\n",
       "      <td>https://community.alteryx.com/t5/Charlotte-NC/...</td>\n",
       "      <td>Charlotte, NC</td>\n",
       "      <td>Americas</td>\n",
       "      <td>5</td>\n",
       "      <td>230</td>\n",
       "      <td>2023-06-04</td>\n",
       "    </tr>\n",
       "    <tr>\n",
       "      <th>4</th>\n",
       "      <td>https://community.alteryx.com/t5/Columbus-OH/g...</td>\n",
       "      <td>Columbus, OH</td>\n",
       "      <td>Americas</td>\n",
       "      <td>5</td>\n",
       "      <td>112</td>\n",
       "      <td>2023-06-04</td>\n",
       "    </tr>\n",
       "  </tbody>\n",
       "</table>\n",
       "</div>"
      ],
      "text/plain": [
       "                                          URL_detail  \\\n",
       "0  https://community.alteryx.com/t5/Atlanta-GA/gh...   \n",
       "1  https://community.alteryx.com/t5/Austin-TX/gh-...   \n",
       "2  https://community.alteryx.com/t5/Boston-MA-New...   \n",
       "3  https://community.alteryx.com/t5/Charlotte-NC/...   \n",
       "4  https://community.alteryx.com/t5/Columbus-OH/g...   \n",
       "\n",
       "              UserGroupName    Region  Group Leaders  Members        Date  \n",
       "0               Atlanta, GA  Americas              4      396  2023-06-04  \n",
       "1                Austin, TX  Americas              2      209  2023-06-04  \n",
       "2  Boston, MA (New England)  Americas              3      307  2023-06-04  \n",
       "3             Charlotte, NC  Americas              5      230  2023-06-04  \n",
       "4              Columbus, OH  Americas              5      112  2023-06-04  "
      ]
     },
     "execution_count": 11,
     "metadata": {},
     "output_type": "execute_result"
    }
   ],
   "source": [
    "ugh.head()"
   ]
  },
  {
   "cell_type": "code",
   "execution_count": 12,
   "id": "39118f45",
   "metadata": {},
   "outputs": [
    {
     "data": {
      "text/html": [
       "<div>\n",
       "<style scoped>\n",
       "    .dataframe tbody tr th:only-of-type {\n",
       "        vertical-align: middle;\n",
       "    }\n",
       "\n",
       "    .dataframe tbody tr th {\n",
       "        vertical-align: top;\n",
       "    }\n",
       "\n",
       "    .dataframe thead th {\n",
       "        text-align: right;\n",
       "    }\n",
       "</style>\n",
       "<table border=\"1\" class=\"dataframe\">\n",
       "  <thead>\n",
       "    <tr style=\"text-align: right;\">\n",
       "      <th></th>\n",
       "      <th>New</th>\n",
       "      <th>Old</th>\n",
       "    </tr>\n",
       "  </thead>\n",
       "  <tbody>\n",
       "    <tr>\n",
       "      <th>0</th>\n",
       "      <td>https://community.alteryx.com/t5/DACH-Germany-...</td>\n",
       "      <td>https://community.alteryx.com/t5/DACH-Germany-...</td>\n",
       "    </tr>\n",
       "    <tr>\n",
       "      <th>1</th>\n",
       "      <td>https://community.alteryx.com/t5/DACH-Germany-...</td>\n",
       "      <td>https://community.alteryx.com/t5/DACH-Germany/...</td>\n",
       "    </tr>\n",
       "    <tr>\n",
       "      <th>2</th>\n",
       "      <td>https://community.alteryx.com/t5/DACH-Germany-...</td>\n",
       "      <td>https://community.alteryx.com/t5/Germany-Deuts...</td>\n",
       "    </tr>\n",
       "    <tr>\n",
       "      <th>3</th>\n",
       "      <td>https://community.alteryx.com/t5/Oklahoma-City...</td>\n",
       "      <td>https://community.alteryx.com/t5/Oklahoma-City...</td>\n",
       "    </tr>\n",
       "    <tr>\n",
       "      <th>4</th>\n",
       "      <td>https://community.alteryx.com/t5/Oklahoma-City...</td>\n",
       "      <td>https://community.alteryx.com/t5/Oklahoma/gh-p...</td>\n",
       "    </tr>\n",
       "  </tbody>\n",
       "</table>\n",
       "</div>"
      ],
      "text/plain": [
       "                                                 New  \\\n",
       "0  https://community.alteryx.com/t5/DACH-Germany-...   \n",
       "1  https://community.alteryx.com/t5/DACH-Germany-...   \n",
       "2  https://community.alteryx.com/t5/DACH-Germany-...   \n",
       "3  https://community.alteryx.com/t5/Oklahoma-City...   \n",
       "4  https://community.alteryx.com/t5/Oklahoma-City...   \n",
       "\n",
       "                                                 Old  \n",
       "0  https://community.alteryx.com/t5/DACH-Germany-...  \n",
       "1  https://community.alteryx.com/t5/DACH-Germany/...  \n",
       "2  https://community.alteryx.com/t5/Germany-Deuts...  \n",
       "3  https://community.alteryx.com/t5/Oklahoma-City...  \n",
       "4  https://community.alteryx.com/t5/Oklahoma/gh-p...  "
      ]
     },
     "execution_count": 12,
     "metadata": {},
     "output_type": "execute_result"
    }
   ],
   "source": [
    "ch.head()"
   ]
  },
  {
   "cell_type": "code",
   "execution_count": null,
   "id": "bc7ed867",
   "metadata": {},
   "outputs": [],
   "source": []
  }
 ],
 "metadata": {
  "kernelspec": {
   "display_name": ".venv",
   "language": "python",
   "name": "python3"
  },
  "language_info": {
   "codemirror_mode": {
    "name": "ipython",
    "version": 3
   },
   "file_extension": ".py",
   "mimetype": "text/x-python",
   "name": "python",
   "nbconvert_exporter": "python",
   "pygments_lexer": "ipython3",
   "version": "3.11.9"
  }
 },
 "nbformat": 4,
 "nbformat_minor": 5
}
