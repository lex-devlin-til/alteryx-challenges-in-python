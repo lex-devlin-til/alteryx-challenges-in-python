{
 "cells": [
  {
   "cell_type": "markdown",
   "id": "5f4197f3",
   "metadata": {},
   "source": [
    "A bookstore wants to analyze book sales over a specified period to determine whether sales are increasing, decreasing, or remaining stable.\n",
    "\n",
    "Your task is to investigate book sales for each 6-month period ending in March, April, and May of 2024. For example, when analyzing March, include the sales for March plus the preceding 5 months. The March 2024 analysis should include sales from October 1, 2023, to March 31, 2024, and similarly for April and May.\n",
    "\n",
    "Calculate the total number of books sold for each analyzed period and identify the most popular book sold during that period.\n",
    "\n",
    "For this task, you are provided with two datasets: one containing book sales data from 2021 to 2024, and the other containing the specific periods of time that require analysis."
   ]
  },
  {
   "cell_type": "markdown",
   "id": "2413b2c7",
   "metadata": {},
   "source": [
    "### Importing libraries and data"
   ]
  },
  {
   "cell_type": "code",
   "execution_count": 2,
   "id": "2f4dcc45",
   "metadata": {},
   "outputs": [],
   "source": [
    "import pandas as pd\n",
    "import numpy as np\n",
    "import os\n",
    "\n",
    "path = r'G:\\My Drive\\Python Challenges\\Alteryx Challenges in Python\\427'\n",
    "\n",
    "book_sales = pd.read_csv(os.path.join('Book Sales.csv'), index_col=False)\n",
    "periods = pd.read_csv(os.path.join('Time Periods.csv'), index_col=False)"
   ]
  },
  {
   "cell_type": "markdown",
   "id": "f46cb747",
   "metadata": {},
   "source": [
    "### Data Validation"
   ]
  },
  {
   "cell_type": "code",
   "execution_count": 3,
   "id": "f7e4f291",
   "metadata": {},
   "outputs": [
    {
     "data": {
      "text/html": [
       "<div>\n",
       "<style scoped>\n",
       "    .dataframe tbody tr th:only-of-type {\n",
       "        vertical-align: middle;\n",
       "    }\n",
       "\n",
       "    .dataframe tbody tr th {\n",
       "        vertical-align: top;\n",
       "    }\n",
       "\n",
       "    .dataframe thead th {\n",
       "        text-align: right;\n",
       "    }\n",
       "</style>\n",
       "<table border=\"1\" class=\"dataframe\">\n",
       "  <thead>\n",
       "    <tr style=\"text-align: right;\">\n",
       "      <th></th>\n",
       "      <th>Date</th>\n",
       "      <th>BookTitle</th>\n",
       "    </tr>\n",
       "  </thead>\n",
       "  <tbody>\n",
       "    <tr>\n",
       "      <th>0</th>\n",
       "      <td>2024-01-01</td>\n",
       "      <td>Lord of the Flies</td>\n",
       "    </tr>\n",
       "    <tr>\n",
       "      <th>1</th>\n",
       "      <td>2024-01-01</td>\n",
       "      <td>1984</td>\n",
       "    </tr>\n",
       "    <tr>\n",
       "      <th>2</th>\n",
       "      <td>2024-01-01</td>\n",
       "      <td>Lord of the Flies</td>\n",
       "    </tr>\n",
       "    <tr>\n",
       "      <th>3</th>\n",
       "      <td>2024-01-01</td>\n",
       "      <td>1984</td>\n",
       "    </tr>\n",
       "    <tr>\n",
       "      <th>4</th>\n",
       "      <td>2024-01-01</td>\n",
       "      <td>The Great Gatsby</td>\n",
       "    </tr>\n",
       "  </tbody>\n",
       "</table>\n",
       "</div>"
      ],
      "text/plain": [
       "         Date          BookTitle\n",
       "0  2024-01-01  Lord of the Flies\n",
       "1  2024-01-01               1984\n",
       "2  2024-01-01  Lord of the Flies\n",
       "3  2024-01-01               1984\n",
       "4  2024-01-01   The Great Gatsby"
      ]
     },
     "execution_count": 3,
     "metadata": {},
     "output_type": "execute_result"
    }
   ],
   "source": [
    "book_sales.head()"
   ]
  },
  {
   "cell_type": "code",
   "execution_count": 4,
   "id": "d2aab5f4",
   "metadata": {},
   "outputs": [
    {
     "data": {
      "text/plain": [
       "Date         object\n",
       "BookTitle    object\n",
       "dtype: object"
      ]
     },
     "execution_count": 4,
     "metadata": {},
     "output_type": "execute_result"
    }
   ],
   "source": [
    "book_sales.dtypes"
   ]
  },
  {
   "cell_type": "code",
   "execution_count": 5,
   "id": "4619700e",
   "metadata": {},
   "outputs": [
    {
     "data": {
      "text/plain": [
       "Date        BookTitle             \n",
       "2024-02-05  The Great Gatsby          44\n",
       "2024-05-23  To Kil A Mockingbird      38\n",
       "2024-02-02  The Catcher in the Rye    37\n",
       "2024-05-19  Crime and Punishment      37\n",
       "2024-02-10  Lord of the Flies         37\n",
       "                                      ..\n",
       "2023-02-25  1984                       1\n",
       "2022-12-04  The Corrections            1\n",
       "            To Kil A Mockingbird       1\n",
       "2022-12-05  Crime and Punishment       1\n",
       "2022-08-03  Lord of the Flies          1\n",
       "Name: count, Length: 4553, dtype: int64"
      ]
     },
     "execution_count": 5,
     "metadata": {},
     "output_type": "execute_result"
    }
   ],
   "source": [
    "book_sales.value_counts()"
   ]
  },
  {
   "cell_type": "code",
   "execution_count": 6,
   "id": "49d7c441",
   "metadata": {},
   "outputs": [
    {
     "data": {
      "text/html": [
       "<div>\n",
       "<style scoped>\n",
       "    .dataframe tbody tr th:only-of-type {\n",
       "        vertical-align: middle;\n",
       "    }\n",
       "\n",
       "    .dataframe tbody tr th {\n",
       "        vertical-align: top;\n",
       "    }\n",
       "\n",
       "    .dataframe thead th {\n",
       "        text-align: right;\n",
       "    }\n",
       "</style>\n",
       "<table border=\"1\" class=\"dataframe\">\n",
       "  <thead>\n",
       "    <tr style=\"text-align: right;\">\n",
       "      <th></th>\n",
       "      <th>Start_YMD</th>\n",
       "      <th>End_YMD</th>\n",
       "      <th>MonthToReport</th>\n",
       "    </tr>\n",
       "  </thead>\n",
       "  <tbody>\n",
       "    <tr>\n",
       "      <th>0</th>\n",
       "      <td>2023-12-01</td>\n",
       "      <td>2024-05-31</td>\n",
       "      <td>1</td>\n",
       "    </tr>\n",
       "    <tr>\n",
       "      <th>1</th>\n",
       "      <td>2023-11-01</td>\n",
       "      <td>2024-04-30</td>\n",
       "      <td>2</td>\n",
       "    </tr>\n",
       "    <tr>\n",
       "      <th>2</th>\n",
       "      <td>2023-10-01</td>\n",
       "      <td>2024-03-31</td>\n",
       "      <td>3</td>\n",
       "    </tr>\n",
       "  </tbody>\n",
       "</table>\n",
       "</div>"
      ],
      "text/plain": [
       "    Start_YMD     End_YMD  MonthToReport\n",
       "0  2023-12-01  2024-05-31              1\n",
       "1  2023-11-01  2024-04-30              2\n",
       "2  2023-10-01  2024-03-31              3"
      ]
     },
     "execution_count": 6,
     "metadata": {},
     "output_type": "execute_result"
    }
   ],
   "source": [
    "periods.head()"
   ]
  },
  {
   "cell_type": "code",
   "execution_count": 7,
   "id": "fe379617",
   "metadata": {},
   "outputs": [
    {
     "data": {
      "text/plain": [
       "Start_YMD        object\n",
       "End_YMD          object\n",
       "MonthToReport     int64\n",
       "dtype: object"
      ]
     },
     "execution_count": 7,
     "metadata": {},
     "output_type": "execute_result"
    }
   ],
   "source": [
    "periods.dtypes"
   ]
  },
  {
   "cell_type": "markdown",
   "id": "42f4761f",
   "metadata": {},
   "source": [
    "### Solving the Challenge"
   ]
  },
  {
   "cell_type": "code",
   "execution_count": null,
   "id": "0f4f8faf",
   "metadata": {},
   "outputs": [],
   "source": []
  },
  {
   "cell_type": "code",
   "execution_count": null,
   "id": "eb847b9e",
   "metadata": {},
   "outputs": [],
   "source": []
  },
  {
   "cell_type": "code",
   "execution_count": null,
   "id": "c4b7162a",
   "metadata": {},
   "outputs": [],
   "source": []
  },
  {
   "cell_type": "code",
   "execution_count": null,
   "id": "92469a98",
   "metadata": {},
   "outputs": [],
   "source": []
  },
  {
   "cell_type": "code",
   "execution_count": null,
   "id": "fcbc09d8",
   "metadata": {},
   "outputs": [],
   "source": []
  }
 ],
 "metadata": {
  "kernelspec": {
   "display_name": "Python 3 (ipykernel)",
   "language": "python",
   "name": "python3"
  },
  "language_info": {
   "codemirror_mode": {
    "name": "ipython",
    "version": 3
   },
   "file_extension": ".py",
   "mimetype": "text/x-python",
   "name": "python",
   "nbconvert_exporter": "python",
   "pygments_lexer": "ipython3",
   "version": "3.11.5"
  }
 },
 "nbformat": 4,
 "nbformat_minor": 5
}
