{
 "cells": [
  {
   "cell_type": "markdown",
   "id": "f2838eb0",
   "metadata": {},
   "source": [
    "For this week's challenge, let’s do a bit of data preparation using shoe inventory data!\n",
    "\n",
    "The following dataset contains a list of shoes with an ID, colors, and sizes available.\n",
    "\n",
    "\n",
    "For this challenge, you want to clean the inventory data and reorganize the list to have:\n",
    "- A new ID number\n",
    "- The size\n",
    "- A comment stating how many colors are available, and\n",
    "- Three columns for color\n",
    "\n",
    "Keep in mind that the names of the colors are separated by the sign /."
   ]
  },
  {
   "cell_type": "code",
   "execution_count": 2,
   "id": "16d14988",
   "metadata": {},
   "outputs": [],
   "source": [
    "import pandas as pd"
   ]
  },
  {
   "cell_type": "code",
   "execution_count": 3,
   "id": "5f7892ba",
   "metadata": {},
   "outputs": [],
   "source": [
    "df = pd.read_csv('data/shoes.csv')"
   ]
  },
  {
   "cell_type": "code",
   "execution_count": 4,
   "id": "735c4c6f",
   "metadata": {},
   "outputs": [
    {
     "data": {
      "text/html": [
       "<div>\n",
       "<style scoped>\n",
       "    .dataframe tbody tr th:only-of-type {\n",
       "        vertical-align: middle;\n",
       "    }\n",
       "\n",
       "    .dataframe tbody tr th {\n",
       "        vertical-align: top;\n",
       "    }\n",
       "\n",
       "    .dataframe thead th {\n",
       "        text-align: right;\n",
       "    }\n",
       "</style>\n",
       "<table border=\"1\" class=\"dataframe\">\n",
       "  <thead>\n",
       "    <tr style=\"text-align: right;\">\n",
       "      <th></th>\n",
       "      <th>id</th>\n",
       "      <th>colors</th>\n",
       "      <th>sizes</th>\n",
       "    </tr>\n",
       "  </thead>\n",
       "  <tbody>\n",
       "    <tr>\n",
       "      <th>0</th>\n",
       "      <td>AWpyySsJAGTnQPR7wNt4</td>\n",
       "      <td>Black</td>\n",
       "      <td>8</td>\n",
       "    </tr>\n",
       "    <tr>\n",
       "      <th>1</th>\n",
       "      <td>AWpyyyb3AGTnQPR7wN-u</td>\n",
       "      <td>Taupe</td>\n",
       "      <td>6 M US</td>\n",
       "    </tr>\n",
       "    <tr>\n",
       "      <th>2</th>\n",
       "      <td>AWpyzlajAGTnQPR7wOX8</td>\n",
       "      <td>Black</td>\n",
       "      <td>5</td>\n",
       "    </tr>\n",
       "    <tr>\n",
       "      <th>3</th>\n",
       "      <td>AWpyxomE0U_gzG0hkA1q</td>\n",
       "      <td>Black/Multi</td>\n",
       "      <td>9.5 BM US</td>\n",
       "    </tr>\n",
       "    <tr>\n",
       "      <th>4</th>\n",
       "      <td>AWpyxChWJbEilcB6RhWx</td>\n",
       "      <td>White</td>\n",
       "      <td>11</td>\n",
       "    </tr>\n",
       "  </tbody>\n",
       "</table>\n",
       "</div>"
      ],
      "text/plain": [
       "                     id       colors      sizes\n",
       "0  AWpyySsJAGTnQPR7wNt4        Black          8\n",
       "1  AWpyyyb3AGTnQPR7wN-u        Taupe     6 M US\n",
       "2  AWpyzlajAGTnQPR7wOX8        Black          5\n",
       "3  AWpyxomE0U_gzG0hkA1q  Black/Multi  9.5 BM US\n",
       "4  AWpyxChWJbEilcB6RhWx        White         11"
      ]
     },
     "execution_count": 4,
     "metadata": {},
     "output_type": "execute_result"
    }
   ],
   "source": [
    "df.head()"
   ]
  },
  {
   "cell_type": "code",
   "execution_count": null,
   "id": "04d4f1d4",
   "metadata": {},
   "outputs": [],
   "source": []
  }
 ],
 "metadata": {
  "kernelspec": {
   "display_name": ".venv",
   "language": "python",
   "name": "python3"
  },
  "language_info": {
   "codemirror_mode": {
    "name": "ipython",
    "version": 3
   },
   "file_extension": ".py",
   "mimetype": "text/x-python",
   "name": "python",
   "nbconvert_exporter": "python",
   "pygments_lexer": "ipython3",
   "version": "3.11.9"
  }
 },
 "nbformat": 4,
 "nbformat_minor": 5
}
