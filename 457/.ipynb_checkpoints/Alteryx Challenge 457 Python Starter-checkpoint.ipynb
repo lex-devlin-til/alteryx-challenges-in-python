{
 "cells": [
  {
   "cell_type": "markdown",
   "id": "fa2083a2",
   "metadata": {},
   "source": [
    "As the year wraps up, your role as a business analyst at a rapidly growing start-up takes a new turn. The VP of Finance has reached out, seeking help with the massive general ledger (GL) data that has grown beyond what the financial analysts can manage in Excel. Your task? Automate the workflow to create a consolidated Profit and Loss (P&L) statement for monthly reporting.\n",
    "\n",
    "You have been provided with 2024’s GL data and the chart of accounts. Now, it’s it is your job to organize the transaction data monthly according to the GL classes to streamline the financial reporting process.\n",
    "\n",
    "The data should be filtered to 2024, and be formatted as a crosstab such that there is a column for each month of the year and each row represents the sum of sales for the Class."
   ]
  },
  {
   "cell_type": "code",
   "execution_count": 1,
   "id": "84faf320",
   "metadata": {},
   "outputs": [],
   "source": [
    "import pandas as pd\n",
    "import numpy as np\n",
    "import os\n",
    "\n",
    "path = r'G:\\My Drive\\Python Challenges\\Alteryx Challenges in Python\\457'\n",
    "\n",
    "gl = pd.read_csv(os.path.join(path, 'General Ledger Data.csv'), index_col = False)\n",
    "\n",
    "accounts = pd.read_csv(os.path.join(path, 'Chart of Accounts.csv'), index_col = False)"
   ]
  },
  {
   "cell_type": "code",
   "execution_count": null,
   "id": "75f8d5d1",
   "metadata": {},
   "outputs": [],
   "source": []
  }
 ],
 "metadata": {
  "kernelspec": {
   "display_name": "Python 3 (ipykernel)",
   "language": "python",
   "name": "python3"
  },
  "language_info": {
   "codemirror_mode": {
    "name": "ipython",
    "version": 3
   },
   "file_extension": ".py",
   "mimetype": "text/x-python",
   "name": "python",
   "nbconvert_exporter": "python",
   "pygments_lexer": "ipython3",
   "version": "3.11.5"
  }
 },
 "nbformat": 4,
 "nbformat_minor": 5
}
