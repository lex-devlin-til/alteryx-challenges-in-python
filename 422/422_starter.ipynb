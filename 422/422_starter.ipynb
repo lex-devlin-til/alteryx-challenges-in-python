{
 "cells": [
  {
   "cell_type": "markdown",
   "id": "2de35d1f",
   "metadata": {},
   "source": [
    "This weekly challenge delves into temperatures, highlighting their crucial role in our planet's health. The dataset presents comprehensive information on global temperature records, covering various countries worldwide. It includes average temperature records in Celsius for major cities from 1743 to 2013.\n",
    "\n",
    "To solve this challenge, we will be concentrating on the data from 1950 onwards.\n",
    "\n",
    " \n",
    "\n",
    "Your tasks are as follows:\n",
    "\n",
    "    1. Determine which cities have average temperatures greater than or equal to 25 degrees.\n",
    "    2. Among the cities identified in the previous task, identify the country with the highest number of such cities.\n",
    "    3. Examining all countries within the dataset, pinpoint the year with the highest average temperature and the year with the lowest average temperature across the globe.\n"
   ]
  },
  {
   "cell_type": "code",
   "execution_count": null,
   "id": "94656f2b",
   "metadata": {},
   "outputs": [],
   "source": [
    "import pandas as pd"
   ]
  },
  {
   "cell_type": "code",
   "execution_count": null,
   "id": "a9a229c8",
   "metadata": {},
   "outputs": [],
   "source": []
  }
 ],
 "metadata": {
  "kernelspec": {
   "display_name": ".venv",
   "language": "python",
   "name": "python3"
  },
  "language_info": {
   "name": "python",
   "version": "3.11.9"
  }
 },
 "nbformat": 4,
 "nbformat_minor": 5
}
