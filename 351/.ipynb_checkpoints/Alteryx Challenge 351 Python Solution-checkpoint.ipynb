{
 "cells": [
  {
   "cell_type": "markdown",
   "id": "a998b899",
   "metadata": {},
   "source": [
    "### 1. Importing libraries and data"
   ]
  },
  {
   "cell_type": "code",
   "execution_count": 1,
   "id": "394acf4c",
   "metadata": {},
   "outputs": [],
   "source": [
    "import pandas as pd\n",
    "import numpy as np\n",
    "import os"
   ]
  },
  {
   "cell_type": "code",
   "execution_count": 2,
   "id": "3aac9c3d",
   "metadata": {},
   "outputs": [],
   "source": [
    "path = r'G:\\My Drive\\Python Challenges\\Alteryx Challenges in Python\\351'"
   ]
  },
  {
   "cell_type": "code",
   "execution_count": 4,
   "id": "d976a825",
   "metadata": {},
   "outputs": [],
   "source": [
    "pickups = pd.read_csv(os.path.join('uber_nyc.csv'), index_col=False)"
   ]
  },
  {
   "cell_type": "markdown",
   "id": "b51b340d",
   "metadata": {},
   "source": [
    "### 2. Data Validation"
   ]
  },
  {
   "cell_type": "code",
   "execution_count": 5,
   "id": "1d3eca74",
   "metadata": {},
   "outputs": [
    {
     "data": {
      "text/html": [
       "<div>\n",
       "<style scoped>\n",
       "    .dataframe tbody tr th:only-of-type {\n",
       "        vertical-align: middle;\n",
       "    }\n",
       "\n",
       "    .dataframe tbody tr th {\n",
       "        vertical-align: top;\n",
       "    }\n",
       "\n",
       "    .dataframe thead th {\n",
       "        text-align: right;\n",
       "    }\n",
       "</style>\n",
       "<table border=\"1\" class=\"dataframe\">\n",
       "  <thead>\n",
       "    <tr style=\"text-align: right;\">\n",
       "      <th></th>\n",
       "      <th>pickup_date</th>\n",
       "      <th>borough</th>\n",
       "      <th>pickups</th>\n",
       "      <th>speed</th>\n",
       "    </tr>\n",
       "  </thead>\n",
       "  <tbody>\n",
       "    <tr>\n",
       "      <th>0</th>\n",
       "      <td>1/1/15 1:00</td>\n",
       "      <td>Bronx</td>\n",
       "      <td>152</td>\n",
       "      <td>5.0</td>\n",
       "    </tr>\n",
       "    <tr>\n",
       "      <th>1</th>\n",
       "      <td>1/1/15 1:00</td>\n",
       "      <td>Brooklyn</td>\n",
       "      <td>1519</td>\n",
       "      <td>5.0</td>\n",
       "    </tr>\n",
       "    <tr>\n",
       "      <th>2</th>\n",
       "      <td>1/1/15 1:00</td>\n",
       "      <td>Manhattan</td>\n",
       "      <td>5258</td>\n",
       "      <td>5.0</td>\n",
       "    </tr>\n",
       "    <tr>\n",
       "      <th>3</th>\n",
       "      <td>1/1/15 1:00</td>\n",
       "      <td>Queens</td>\n",
       "      <td>405</td>\n",
       "      <td>5.0</td>\n",
       "    </tr>\n",
       "    <tr>\n",
       "      <th>4</th>\n",
       "      <td>1/1/15 1:00</td>\n",
       "      <td>Staten Island</td>\n",
       "      <td>6</td>\n",
       "      <td>5.0</td>\n",
       "    </tr>\n",
       "    <tr>\n",
       "      <th>...</th>\n",
       "      <td>...</td>\n",
       "      <td>...</td>\n",
       "      <td>...</td>\n",
       "      <td>...</td>\n",
       "    </tr>\n",
       "    <tr>\n",
       "      <th>21710</th>\n",
       "      <td>6/30/15 23:00</td>\n",
       "      <td>Bronx</td>\n",
       "      <td>67</td>\n",
       "      <td>7.0</td>\n",
       "    </tr>\n",
       "    <tr>\n",
       "      <th>21711</th>\n",
       "      <td>6/30/15 23:00</td>\n",
       "      <td>Brooklyn</td>\n",
       "      <td>990</td>\n",
       "      <td>7.0</td>\n",
       "    </tr>\n",
       "    <tr>\n",
       "      <th>21712</th>\n",
       "      <td>6/30/15 23:00</td>\n",
       "      <td>Manhattan</td>\n",
       "      <td>3828</td>\n",
       "      <td>7.0</td>\n",
       "    </tr>\n",
       "    <tr>\n",
       "      <th>21713</th>\n",
       "      <td>6/30/15 23:00</td>\n",
       "      <td>Queens</td>\n",
       "      <td>580</td>\n",
       "      <td>7.0</td>\n",
       "    </tr>\n",
       "    <tr>\n",
       "      <th>21714</th>\n",
       "      <td>6/30/15 23:00</td>\n",
       "      <td>Staten Island</td>\n",
       "      <td>0</td>\n",
       "      <td>7.0</td>\n",
       "    </tr>\n",
       "  </tbody>\n",
       "</table>\n",
       "<p>21715 rows × 4 columns</p>\n",
       "</div>"
      ],
      "text/plain": [
       "         pickup_date        borough  pickups  speed\n",
       "0        1/1/15 1:00          Bronx      152    5.0\n",
       "1        1/1/15 1:00       Brooklyn     1519    5.0\n",
       "2        1/1/15 1:00      Manhattan     5258    5.0\n",
       "3        1/1/15 1:00         Queens      405    5.0\n",
       "4        1/1/15 1:00  Staten Island        6    5.0\n",
       "...              ...            ...      ...    ...\n",
       "21710  6/30/15 23:00          Bronx       67    7.0\n",
       "21711  6/30/15 23:00       Brooklyn      990    7.0\n",
       "21712  6/30/15 23:00      Manhattan     3828    7.0\n",
       "21713  6/30/15 23:00         Queens      580    7.0\n",
       "21714  6/30/15 23:00  Staten Island        0    7.0\n",
       "\n",
       "[21715 rows x 4 columns]"
      ]
     },
     "execution_count": 5,
     "metadata": {},
     "output_type": "execute_result"
    }
   ],
   "source": [
    "pickups"
   ]
  },
  {
   "cell_type": "code",
   "execution_count": 7,
   "id": "21392d5c",
   "metadata": {},
   "outputs": [
    {
     "data": {
      "text/plain": [
       "pickup_date     object\n",
       "borough         object\n",
       "pickups          int64\n",
       "speed          float64\n",
       "dtype: object"
      ]
     },
     "execution_count": 7,
     "metadata": {},
     "output_type": "execute_result"
    }
   ],
   "source": [
    "pickups.dtypes"
   ]
  },
  {
   "cell_type": "markdown",
   "id": "87263598",
   "metadata": {},
   "source": [
    "### 3. Deriving date columns"
   ]
  },
  {
   "cell_type": "code",
   "execution_count": 15,
   "id": "0710b7d5",
   "metadata": {},
   "outputs": [],
   "source": [
    "# Deriving date, month and year columns\n",
    "pickups['pickup_date'] = pd.to_datetime(pickups['pickup_date']) # necessary conversion of Date field from object to datetime\n",
    "pickups['month'] = pickups['pickup_date'].dt.month\n",
    "pickups['day'] = pickups['pickup_date'].dt.day\n",
    "pickups['year'] = pickups['pickup_date'].dt.year # built-in function that takes the year as an integer"
   ]
  },
  {
   "cell_type": "code",
   "execution_count": 16,
   "id": "3407efff",
   "metadata": {
    "scrolled": true
   },
   "outputs": [
    {
     "data": {
      "text/html": [
       "<div>\n",
       "<style scoped>\n",
       "    .dataframe tbody tr th:only-of-type {\n",
       "        vertical-align: middle;\n",
       "    }\n",
       "\n",
       "    .dataframe tbody tr th {\n",
       "        vertical-align: top;\n",
       "    }\n",
       "\n",
       "    .dataframe thead th {\n",
       "        text-align: right;\n",
       "    }\n",
       "</style>\n",
       "<table border=\"1\" class=\"dataframe\">\n",
       "  <thead>\n",
       "    <tr style=\"text-align: right;\">\n",
       "      <th></th>\n",
       "      <th>pickup_date</th>\n",
       "      <th>borough</th>\n",
       "      <th>pickups</th>\n",
       "      <th>speed</th>\n",
       "      <th>month</th>\n",
       "      <th>year</th>\n",
       "      <th>day</th>\n",
       "    </tr>\n",
       "  </thead>\n",
       "  <tbody>\n",
       "    <tr>\n",
       "      <th>0</th>\n",
       "      <td>2015-01-01 01:00:00</td>\n",
       "      <td>Bronx</td>\n",
       "      <td>152</td>\n",
       "      <td>5.0</td>\n",
       "      <td>1</td>\n",
       "      <td>2015</td>\n",
       "      <td>1</td>\n",
       "    </tr>\n",
       "    <tr>\n",
       "      <th>1</th>\n",
       "      <td>2015-01-01 01:00:00</td>\n",
       "      <td>Brooklyn</td>\n",
       "      <td>1519</td>\n",
       "      <td>5.0</td>\n",
       "      <td>1</td>\n",
       "      <td>2015</td>\n",
       "      <td>1</td>\n",
       "    </tr>\n",
       "    <tr>\n",
       "      <th>2</th>\n",
       "      <td>2015-01-01 01:00:00</td>\n",
       "      <td>Manhattan</td>\n",
       "      <td>5258</td>\n",
       "      <td>5.0</td>\n",
       "      <td>1</td>\n",
       "      <td>2015</td>\n",
       "      <td>1</td>\n",
       "    </tr>\n",
       "    <tr>\n",
       "      <th>3</th>\n",
       "      <td>2015-01-01 01:00:00</td>\n",
       "      <td>Queens</td>\n",
       "      <td>405</td>\n",
       "      <td>5.0</td>\n",
       "      <td>1</td>\n",
       "      <td>2015</td>\n",
       "      <td>1</td>\n",
       "    </tr>\n",
       "    <tr>\n",
       "      <th>4</th>\n",
       "      <td>2015-01-01 01:00:00</td>\n",
       "      <td>Staten Island</td>\n",
       "      <td>6</td>\n",
       "      <td>5.0</td>\n",
       "      <td>1</td>\n",
       "      <td>2015</td>\n",
       "      <td>1</td>\n",
       "    </tr>\n",
       "    <tr>\n",
       "      <th>...</th>\n",
       "      <td>...</td>\n",
       "      <td>...</td>\n",
       "      <td>...</td>\n",
       "      <td>...</td>\n",
       "      <td>...</td>\n",
       "      <td>...</td>\n",
       "      <td>...</td>\n",
       "    </tr>\n",
       "    <tr>\n",
       "      <th>21710</th>\n",
       "      <td>2015-06-30 23:00:00</td>\n",
       "      <td>Bronx</td>\n",
       "      <td>67</td>\n",
       "      <td>7.0</td>\n",
       "      <td>6</td>\n",
       "      <td>2015</td>\n",
       "      <td>30</td>\n",
       "    </tr>\n",
       "    <tr>\n",
       "      <th>21711</th>\n",
       "      <td>2015-06-30 23:00:00</td>\n",
       "      <td>Brooklyn</td>\n",
       "      <td>990</td>\n",
       "      <td>7.0</td>\n",
       "      <td>6</td>\n",
       "      <td>2015</td>\n",
       "      <td>30</td>\n",
       "    </tr>\n",
       "    <tr>\n",
       "      <th>21712</th>\n",
       "      <td>2015-06-30 23:00:00</td>\n",
       "      <td>Manhattan</td>\n",
       "      <td>3828</td>\n",
       "      <td>7.0</td>\n",
       "      <td>6</td>\n",
       "      <td>2015</td>\n",
       "      <td>30</td>\n",
       "    </tr>\n",
       "    <tr>\n",
       "      <th>21713</th>\n",
       "      <td>2015-06-30 23:00:00</td>\n",
       "      <td>Queens</td>\n",
       "      <td>580</td>\n",
       "      <td>7.0</td>\n",
       "      <td>6</td>\n",
       "      <td>2015</td>\n",
       "      <td>30</td>\n",
       "    </tr>\n",
       "    <tr>\n",
       "      <th>21714</th>\n",
       "      <td>2015-06-30 23:00:00</td>\n",
       "      <td>Staten Island</td>\n",
       "      <td>0</td>\n",
       "      <td>7.0</td>\n",
       "      <td>6</td>\n",
       "      <td>2015</td>\n",
       "      <td>30</td>\n",
       "    </tr>\n",
       "  </tbody>\n",
       "</table>\n",
       "<p>21715 rows × 7 columns</p>\n",
       "</div>"
      ],
      "text/plain": [
       "              pickup_date        borough  pickups  speed  month  year  day\n",
       "0     2015-01-01 01:00:00          Bronx      152    5.0      1  2015    1\n",
       "1     2015-01-01 01:00:00       Brooklyn     1519    5.0      1  2015    1\n",
       "2     2015-01-01 01:00:00      Manhattan     5258    5.0      1  2015    1\n",
       "3     2015-01-01 01:00:00         Queens      405    5.0      1  2015    1\n",
       "4     2015-01-01 01:00:00  Staten Island        6    5.0      1  2015    1\n",
       "...                   ...            ...      ...    ...    ...   ...  ...\n",
       "21710 2015-06-30 23:00:00          Bronx       67    7.0      6  2015   30\n",
       "21711 2015-06-30 23:00:00       Brooklyn      990    7.0      6  2015   30\n",
       "21712 2015-06-30 23:00:00      Manhattan     3828    7.0      6  2015   30\n",
       "21713 2015-06-30 23:00:00         Queens      580    7.0      6  2015   30\n",
       "21714 2015-06-30 23:00:00  Staten Island        0    7.0      6  2015   30\n",
       "\n",
       "[21715 rows x 7 columns]"
      ]
     },
     "execution_count": 16,
     "metadata": {},
     "output_type": "execute_result"
    }
   ],
   "source": [
    "pickups"
   ]
  },
  {
   "cell_type": "code",
   "execution_count": 17,
   "id": "e27e5ba0",
   "metadata": {},
   "outputs": [
    {
     "data": {
      "text/plain": [
       "pickup_date    datetime64[ns]\n",
       "borough                object\n",
       "pickups                 int64\n",
       "speed                 float64\n",
       "month                   int32\n",
       "year                    int32\n",
       "day                     int32\n",
       "dtype: object"
      ]
     },
     "execution_count": 17,
     "metadata": {},
     "output_type": "execute_result"
    }
   ],
   "source": [
    "pickups.dtypes"
   ]
  },
  {
   "cell_type": "markdown",
   "id": "c43df8a7",
   "metadata": {},
   "source": [
    "### 4. The Challenge"
   ]
  },
  {
   "cell_type": "markdown",
   "id": "569892b2",
   "metadata": {},
   "source": [
    "How many pickups does Uber make in New York City?\n",
    "This is what we are going to investigate in this challenge.\n",
    "\n",
    "The dataset provides information about uber pickups in New York for the first 6 months of January 2015. *(Lex here, what does this mean lol)*\n",
    "\n",
    "It gives you, among other things, the date of the pickup, the borough, and the number of pickups by borough.\n",
    "\n",
    "For this challenge, *determine the total number of pickups each day, by borough, for the month of January 2015.*"
   ]
  },
  {
   "cell_type": "code",
   "execution_count": 18,
   "id": "308ed2b1",
   "metadata": {},
   "outputs": [],
   "source": [
    "# Subset of Jan 2015 pickups only\n",
    "jan_pickups = pickups.loc[(pickups['month'] == 1) & (pickups['year'] == 2015)]"
   ]
  },
  {
   "cell_type": "code",
   "execution_count": 20,
   "id": "a976a4de",
   "metadata": {},
   "outputs": [
    {
     "data": {
      "text/plain": [
       "month  year\n",
       "1      2015    3715\n",
       "Name: count, dtype: int64"
      ]
     },
     "execution_count": 20,
     "metadata": {},
     "output_type": "execute_result"
    }
   ],
   "source": [
    "# Yup, just Jan 2015\n",
    "jan_pickups.value_counts(['month', 'year'])"
   ]
  },
  {
   "cell_type": "code",
   "execution_count": 22,
   "id": "5bf6dacd",
   "metadata": {},
   "outputs": [],
   "source": [
    "# Grouping by borough and day, summing pickups\n",
    "daily_boro_pickups = jan_pickups.groupby(['borough', 'day'], as_index=False).agg(total_pickups=('pickups', 'sum'))"
   ]
  },
  {
   "cell_type": "code",
   "execution_count": 23,
   "id": "e325ef2d",
   "metadata": {},
   "outputs": [
    {
     "data": {
      "text/html": [
       "<div>\n",
       "<style scoped>\n",
       "    .dataframe tbody tr th:only-of-type {\n",
       "        vertical-align: middle;\n",
       "    }\n",
       "\n",
       "    .dataframe tbody tr th {\n",
       "        vertical-align: top;\n",
       "    }\n",
       "\n",
       "    .dataframe thead th {\n",
       "        text-align: right;\n",
       "    }\n",
       "</style>\n",
       "<table border=\"1\" class=\"dataframe\">\n",
       "  <thead>\n",
       "    <tr style=\"text-align: right;\">\n",
       "      <th></th>\n",
       "      <th>borough</th>\n",
       "      <th>day</th>\n",
       "      <th>total_pickups</th>\n",
       "    </tr>\n",
       "  </thead>\n",
       "  <tbody>\n",
       "    <tr>\n",
       "      <th>0</th>\n",
       "      <td>Bronx</td>\n",
       "      <td>1</td>\n",
       "      <td>1075</td>\n",
       "    </tr>\n",
       "    <tr>\n",
       "      <th>1</th>\n",
       "      <td>Bronx</td>\n",
       "      <td>2</td>\n",
       "      <td>545</td>\n",
       "    </tr>\n",
       "    <tr>\n",
       "      <th>2</th>\n",
       "      <td>Bronx</td>\n",
       "      <td>3</td>\n",
       "      <td>719</td>\n",
       "    </tr>\n",
       "    <tr>\n",
       "      <th>3</th>\n",
       "      <td>Bronx</td>\n",
       "      <td>4</td>\n",
       "      <td>590</td>\n",
       "    </tr>\n",
       "    <tr>\n",
       "      <th>4</th>\n",
       "      <td>Bronx</td>\n",
       "      <td>5</td>\n",
       "      <td>487</td>\n",
       "    </tr>\n",
       "    <tr>\n",
       "      <th>...</th>\n",
       "      <td>...</td>\n",
       "      <td>...</td>\n",
       "      <td>...</td>\n",
       "    </tr>\n",
       "    <tr>\n",
       "      <th>150</th>\n",
       "      <td>Staten Island</td>\n",
       "      <td>27</td>\n",
       "      <td>16</td>\n",
       "    </tr>\n",
       "    <tr>\n",
       "      <th>151</th>\n",
       "      <td>Staten Island</td>\n",
       "      <td>28</td>\n",
       "      <td>21</td>\n",
       "    </tr>\n",
       "    <tr>\n",
       "      <th>152</th>\n",
       "      <td>Staten Island</td>\n",
       "      <td>29</td>\n",
       "      <td>27</td>\n",
       "    </tr>\n",
       "    <tr>\n",
       "      <th>153</th>\n",
       "      <td>Staten Island</td>\n",
       "      <td>30</td>\n",
       "      <td>35</td>\n",
       "    </tr>\n",
       "    <tr>\n",
       "      <th>154</th>\n",
       "      <td>Staten Island</td>\n",
       "      <td>31</td>\n",
       "      <td>42</td>\n",
       "    </tr>\n",
       "  </tbody>\n",
       "</table>\n",
       "<p>155 rows × 3 columns</p>\n",
       "</div>"
      ],
      "text/plain": [
       "           borough  day  total_pickups\n",
       "0            Bronx    1           1075\n",
       "1            Bronx    2            545\n",
       "2            Bronx    3            719\n",
       "3            Bronx    4            590\n",
       "4            Bronx    5            487\n",
       "..             ...  ...            ...\n",
       "150  Staten Island   27             16\n",
       "151  Staten Island   28             21\n",
       "152  Staten Island   29             27\n",
       "153  Staten Island   30             35\n",
       "154  Staten Island   31             42\n",
       "\n",
       "[155 rows x 3 columns]"
      ]
     },
     "execution_count": 23,
     "metadata": {},
     "output_type": "execute_result"
    }
   ],
   "source": [
    "daily_boro_pickups"
   ]
  },
  {
   "cell_type": "code",
   "execution_count": 25,
   "id": "04e6475d",
   "metadata": {},
   "outputs": [],
   "source": [
    "daily_boro_pickups.to_csv(os.path.join('solution.csv'), index=False)"
   ]
  }
 ],
 "metadata": {
  "kernelspec": {
   "display_name": "Python 3 (ipykernel)",
   "language": "python",
   "name": "python3"
  },
  "language_info": {
   "codemirror_mode": {
    "name": "ipython",
    "version": 3
   },
   "file_extension": ".py",
   "mimetype": "text/x-python",
   "name": "python",
   "nbconvert_exporter": "python",
   "pygments_lexer": "ipython3",
   "version": "3.11.5"
  }
 },
 "nbformat": 4,
 "nbformat_minor": 5
}
